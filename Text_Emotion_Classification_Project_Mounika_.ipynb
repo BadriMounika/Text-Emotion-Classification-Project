{
  "nbformat": 4,
  "nbformat_minor": 0,
  "metadata": {
    "colab": {
      "provenance": [],
      "gpuType": "T4",
      "authorship_tag": "ABX9TyNoNMhUD29TCD9b/7psRcie",
      "include_colab_link": true
    },
    "kernelspec": {
      "name": "python3",
      "display_name": "Python 3"
    },
    "language_info": {
      "name": "python"
    },
    "accelerator": "GPU"
  },
  "cells": [
    {
      "cell_type": "markdown",
      "metadata": {
        "id": "view-in-github",
        "colab_type": "text"
      },
      "source": [
        "<a href=\"https://colab.research.google.com/github/BadriMounika/Text-Emotion-Classification-Project/blob/main/Text_Emotion_Classification_Project_Mounika_.ipynb\" target=\"_parent\"><img src=\"https://colab.research.google.com/assets/colab-badge.svg\" alt=\"Open In Colab\"/></a>"
      ]
    },
    {
      "cell_type": "code",
      "execution_count": 1,
      "metadata": {
        "colab": {
          "base_uri": "https://localhost:8080/"
        },
        "id": "NGBQGL802_ON",
        "outputId": "d62845a3-1497-4ead-a9d2-bf60100be0bd"
      },
      "outputs": [
        {
          "output_type": "stream",
          "name": "stdout",
          "text": [
            "Requirement already satisfied: tensorflow in /usr/local/lib/python3.10/dist-packages (2.15.0)\n",
            "Collecting sklearn\n",
            "  Downloading sklearn-0.0.post12.tar.gz (2.6 kB)\n",
            "  \u001b[1;31merror\u001b[0m: \u001b[1msubprocess-exited-with-error\u001b[0m\n",
            "  \n",
            "  \u001b[31m×\u001b[0m \u001b[32mpython setup.py egg_info\u001b[0m did not run successfully.\n",
            "  \u001b[31m│\u001b[0m exit code: \u001b[1;36m1\u001b[0m\n",
            "  \u001b[31m╰─>\u001b[0m See above for output.\n",
            "  \n",
            "  \u001b[1;35mnote\u001b[0m: This error originates from a subprocess, and is likely not a problem with pip.\n",
            "  Preparing metadata (setup.py) ... \u001b[?25l\u001b[?25herror\n",
            "\u001b[1;31merror\u001b[0m: \u001b[1mmetadata-generation-failed\u001b[0m\n",
            "\n",
            "\u001b[31m×\u001b[0m Encountered error while generating package metadata.\n",
            "\u001b[31m╰─>\u001b[0m See above for output.\n",
            "\n",
            "\u001b[1;35mnote\u001b[0m: This is an issue with the package mentioned above, not pip.\n",
            "\u001b[1;36mhint\u001b[0m: See above for details.\n"
          ]
        }
      ],
      "source": [
        "!pip install tensorflow sklearn"
      ]
    },
    {
      "cell_type": "code",
      "source": [
        "import pandas as pd\n",
        "import numpy as np\n",
        "import keras\n",
        "import tensorflow\n",
        "from keras.preprocessing.text import Tokenizer\n",
        "from tensorflow.keras.preprocessing.sequence import pad_sequences\n",
        "from sklearn.preprocessing import LabelEncoder\n",
        "from sklearn.model_selection import train_test_split\n",
        "from keras.models import Sequential\n",
        "from keras.layers import Embedding, Flatten, Dense\n",
        "\n",
        "\n",
        "data = pd.read_csv(\"train.txt\", sep=';')\n",
        "data.columns = [\"Text\", \"Emotions\"]\n",
        "print(data.head())"
      ],
      "metadata": {
        "colab": {
          "base_uri": "https://localhost:8080/"
        },
        "id": "CDTBbhi53xcW",
        "outputId": "2d9beb1f-4b2e-464e-f552-7915dbfa45d2"
      },
      "execution_count": 2,
      "outputs": [
        {
          "output_type": "stream",
          "name": "stdout",
          "text": [
            "                                                Text Emotions\n",
            "0  i can go from feeling so hopeless to so damned...  sadness\n",
            "1   im grabbing a minute to post i feel greedy wrong    anger\n",
            "2  i am ever feeling nostalgic about the fireplac...     love\n",
            "3                               i am feeling grouchy    anger\n",
            "4  ive been feeling a little burdened lately wasn...  sadness\n"
          ]
        }
      ]
    },
    {
      "cell_type": "code",
      "source": [
        "texts = data[\"Text\"].tolist()\n",
        "labels = data[\"Emotions\"].tolist()\n",
        "\n",
        "# Tokenize the text data\n",
        "tokenizer = Tokenizer()\n",
        "tokenizer.fit_on_texts(texts)"
      ],
      "metadata": {
        "id": "yTocqx5Y33D3"
      },
      "execution_count": 3,
      "outputs": []
    },
    {
      "cell_type": "code",
      "source": [
        "sequences = tokenizer.texts_to_sequences(texts)\n",
        "max_length = max([len(seq) for seq in sequences])\n",
        "padded_sequences = pad_sequences(sequences, maxlen=max_length)"
      ],
      "metadata": {
        "id": "D3_B_PeS38kQ"
      },
      "execution_count": 4,
      "outputs": []
    },
    {
      "cell_type": "code",
      "source": [
        "# Encode the string labels to integers\n",
        "label_encoder = LabelEncoder()\n",
        "labels = label_encoder.fit_transform(labels)"
      ],
      "metadata": {
        "id": "WnmcarEW4AUZ"
      },
      "execution_count": 5,
      "outputs": []
    },
    {
      "cell_type": "code",
      "source": [
        "# One-hot encode the labels\n",
        "one_hot_labels = keras.utils.to_categorical(labels)"
      ],
      "metadata": {
        "id": "BwJMQPXD4Dly"
      },
      "execution_count": 6,
      "outputs": []
    },
    {
      "cell_type": "code",
      "source": [
        "# Split the data into training and testing sets\n",
        "xtrain, xtest, ytrain, ytest = train_test_split(padded_sequences,\n",
        "                                                one_hot_labels,\n",
        "                                                test_size=0.2)"
      ],
      "metadata": {
        "id": "xxBOlhPa4ITe"
      },
      "execution_count": 7,
      "outputs": []
    },
    {
      "cell_type": "code",
      "source": [
        "# Define the model\n",
        "model = Sequential()\n",
        "model.add(Embedding(input_dim=len(tokenizer.word_index) + 1,\n",
        "                    output_dim=128, input_length=max_length))\n",
        "model.add(Flatten())\n",
        "model.add(Dense(units=128, activation=\"relu\"))\n",
        "model.add(Dense(units=len(one_hot_labels[0]), activation=\"softmax\"))\n",
        "\n",
        "model.compile(optimizer=\"adam\", loss=\"categorical_crossentropy\", metrics=[\"accuracy\"])\n",
        "model.fit(xtrain, ytrain, epochs=15, batch_size=32, validation_data=(xtest, ytest))"
      ],
      "metadata": {
        "colab": {
          "base_uri": "https://localhost:8080/"
        },
        "id": "EuAu4mBa4LIe",
        "outputId": "ecebc37d-961f-4b61-9884-e8d0895ea535"
      },
      "execution_count": 8,
      "outputs": [
        {
          "output_type": "stream",
          "name": "stdout",
          "text": [
            "Epoch 1/15\n",
            "400/400 [==============================] - 17s 35ms/step - loss: 1.3719 - accuracy: 0.4705 - val_loss: 0.9029 - val_accuracy: 0.7028\n",
            "Epoch 2/15\n",
            "400/400 [==============================] - 4s 9ms/step - loss: 0.3918 - accuracy: 0.8803 - val_loss: 0.5598 - val_accuracy: 0.8209\n",
            "Epoch 3/15\n",
            "400/400 [==============================] - 3s 7ms/step - loss: 0.0668 - accuracy: 0.9837 - val_loss: 0.5506 - val_accuracy: 0.8331\n",
            "Epoch 4/15\n",
            "400/400 [==============================] - 2s 5ms/step - loss: 0.0288 - accuracy: 0.9942 - val_loss: 0.5725 - val_accuracy: 0.8334\n",
            "Epoch 5/15\n",
            "400/400 [==============================] - 2s 5ms/step - loss: 0.0193 - accuracy: 0.9962 - val_loss: 0.5899 - val_accuracy: 0.8366\n",
            "Epoch 6/15\n",
            "400/400 [==============================] - 2s 5ms/step - loss: 0.0163 - accuracy: 0.9966 - val_loss: 0.6111 - val_accuracy: 0.8294\n",
            "Epoch 7/15\n",
            "400/400 [==============================] - 2s 6ms/step - loss: 0.0164 - accuracy: 0.9966 - val_loss: 0.6403 - val_accuracy: 0.8300\n",
            "Epoch 8/15\n",
            "400/400 [==============================] - 2s 6ms/step - loss: 0.0116 - accuracy: 0.9969 - val_loss: 0.6461 - val_accuracy: 0.8325\n",
            "Epoch 9/15\n",
            "400/400 [==============================] - 2s 5ms/step - loss: 0.0114 - accuracy: 0.9972 - val_loss: 0.6523 - val_accuracy: 0.8309\n",
            "Epoch 10/15\n",
            "400/400 [==============================] - 2s 5ms/step - loss: 0.0103 - accuracy: 0.9972 - val_loss: 0.7047 - val_accuracy: 0.8331\n",
            "Epoch 11/15\n",
            "400/400 [==============================] - 2s 5ms/step - loss: 0.0082 - accuracy: 0.9972 - val_loss: 0.7361 - val_accuracy: 0.8281\n",
            "Epoch 12/15\n",
            "400/400 [==============================] - 2s 5ms/step - loss: 0.0088 - accuracy: 0.9972 - val_loss: 0.7751 - val_accuracy: 0.8266\n",
            "Epoch 13/15\n",
            "400/400 [==============================] - 2s 5ms/step - loss: 0.0077 - accuracy: 0.9971 - val_loss: 0.7761 - val_accuracy: 0.8256\n",
            "Epoch 14/15\n",
            "400/400 [==============================] - 2s 5ms/step - loss: 0.0070 - accuracy: 0.9971 - val_loss: 0.7786 - val_accuracy: 0.8328\n",
            "Epoch 15/15\n",
            "400/400 [==============================] - 2s 6ms/step - loss: 0.0055 - accuracy: 0.9974 - val_loss: 0.7811 - val_accuracy: 0.8266\n"
          ]
        },
        {
          "output_type": "execute_result",
          "data": {
            "text/plain": [
              "<keras.src.callbacks.History at 0x7fab4f6bd510>"
            ]
          },
          "metadata": {},
          "execution_count": 8
        }
      ]
    },
    {
      "cell_type": "code",
      "source": [
        "input_text = \"She didn't come today because she lost her dog yestertay!\"\n",
        "\n",
        "# Preprocess the input text\n",
        "input_sequence = tokenizer.texts_to_sequences([input_text])\n",
        "padded_input_sequence = pad_sequences(input_sequence, maxlen=max_length)\n",
        "prediction = model.predict(padded_input_sequence)\n",
        "predicted_label = label_encoder.inverse_transform([np.argmax(prediction[0])])\n",
        "print(predicted_label)"
      ],
      "metadata": {
        "colab": {
          "base_uri": "https://localhost:8080/"
        },
        "id": "pDfWM5Xf4Pq5",
        "outputId": "bed4f160-9110-433b-fad7-917f2fed47c0"
      },
      "execution_count": 9,
      "outputs": [
        {
          "output_type": "stream",
          "name": "stdout",
          "text": [
            "1/1 [==============================] - 0s 104ms/step\n",
            "['sadness']\n"
          ]
        }
      ]
    },
    {
      "cell_type": "code",
      "source": [
        "input_text = input(\"Enter the text:\")\n",
        "\n",
        "# Preprocess the input text\n",
        "input_sequence = tokenizer.texts_to_sequences([input_text])\n",
        "padded_input_sequence = pad_sequences(input_sequence, maxlen=max_length)\n",
        "prediction = model.predict(padded_input_sequence)\n",
        "predicted_label = label_encoder.inverse_transform([np.argmax(prediction[0])])\n",
        "print(predicted_label)"
      ],
      "metadata": {
        "colab": {
          "base_uri": "https://localhost:8080/"
        },
        "id": "EswxdB_Z4oOa",
        "outputId": "1ca9828d-6d3c-4c54-d4c8-a0bf7bda21c1"
      },
      "execution_count": 10,
      "outputs": [
        {
          "output_type": "stream",
          "name": "stdout",
          "text": [
            "Enter the text:im grabbing a minute to post i feel greedy wrong \n",
            "1/1 [==============================] - 0s 18ms/step\n",
            "['anger']\n"
          ]
        }
      ]
    },
    {
      "cell_type": "code",
      "source": [
        "input_text = input(\"Enter the text:\")\n",
        "\n",
        "# Preprocess the input text\n",
        "input_sequence = tokenizer.texts_to_sequences([input_text])\n",
        "padded_input_sequence = pad_sequences(input_sequence, maxlen=max_length)\n",
        "prediction = model.predict(padded_input_sequence)\n",
        "predicted_label = label_encoder.inverse_transform([np.argmax(prediction[0])])\n",
        "print(predicted_label)"
      ],
      "metadata": {
        "colab": {
          "base_uri": "https://localhost:8080/"
        },
        "id": "3VqwRDgW4ySp",
        "outputId": "d6f4b9aa-3d0b-4acb-b1b2-4852a658216e"
      },
      "execution_count": 11,
      "outputs": [
        {
          "output_type": "stream",
          "name": "stdout",
          "text": [
            "Enter the text:i am ever feeling nostalgic about the fireplac... \n",
            "1/1 [==============================] - 0s 27ms/step\n",
            "['love']\n"
          ]
        }
      ]
    },
    {
      "cell_type": "code",
      "source": [
        "input_text = input(\"Enter the text:\")\n",
        "\n",
        "# Preprocess the input text\n",
        "input_sequence = tokenizer.texts_to_sequences([input_text])\n",
        "padded_input_sequence = pad_sequences(input_sequence, maxlen=max_length)\n",
        "prediction = model.predict(padded_input_sequence)\n",
        "predicted_label = label_encoder.inverse_transform([np.argmax(prediction[0])])\n",
        "print(predicted_label)"
      ],
      "metadata": {
        "colab": {
          "base_uri": "https://localhost:8080/"
        },
        "id": "c3L0Wgif48p2",
        "outputId": "f5e9d3ee-9a95-4e59-86e8-ceab9ecba957"
      },
      "execution_count": 14,
      "outputs": [
        {
          "output_type": "stream",
          "name": "stdout",
          "text": [
            "Enter the text:Wow beautiful\n",
            "1/1 [==============================] - 0s 28ms/step\n",
            "['joy']\n"
          ]
        }
      ]
    },
    {
      "cell_type": "code",
      "source": [],
      "metadata": {
        "id": "VR1NeKkq5E5f"
      },
      "execution_count": null,
      "outputs": []
    }
  ]
}